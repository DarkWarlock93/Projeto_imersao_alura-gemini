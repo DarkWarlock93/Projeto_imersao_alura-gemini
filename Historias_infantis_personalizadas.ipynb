{
  "nbformat": 4,
  "nbformat_minor": 0,
  "metadata": {
    "colab": {
      "provenance": [],
      "authorship_tag": "ABX9TyMUpHTZfnhhyGQlsKgIyFkU",
      "include_colab_link": true
    },
    "kernelspec": {
      "name": "python3",
      "display_name": "Python 3"
    },
    "language_info": {
      "name": "python"
    }
  },
  "cells": [
    {
      "cell_type": "markdown",
      "metadata": {
        "id": "view-in-github",
        "colab_type": "text"
      },
      "source": [
        "<a href=\"https://colab.research.google.com/github/DarkWarlock93/Projeto_imersao_alura-gemini/blob/main/Historias_infantis_personalizadas.ipynb\" target=\"_parent\"><img src=\"https://colab.research.google.com/assets/colab-badge.svg\" alt=\"Open In Colab\"/></a>"
      ]
    },
    {
      "cell_type": "markdown",
      "source": [
        "instalando o SDK do google"
      ],
      "metadata": {
        "id": "aNMUUpxDcUL3"
      }
    },
    {
      "cell_type": "code",
      "execution_count": 3,
      "metadata": {
        "id": "x7Z1roxLYAug"
      },
      "outputs": [],
      "source": [
        "!pip install -q -U google-generativeai"
      ]
    },
    {
      "cell_type": "code",
      "source": [
        "import google.generativeai as genai\n",
        "\n",
        "from google.colab import userdata\n",
        "api_key = userdata.get('SECRET_KEY')\n",
        "genai.configure(api_key=api_key)"
      ],
      "metadata": {
        "id": "2XouRXs4cc-o"
      },
      "execution_count": 23,
      "outputs": []
    },
    {
      "cell_type": "markdown",
      "source": [
        "Listar os modelos disponíveis"
      ],
      "metadata": {
        "id": "6wthJBaZdOiv"
      }
    },
    {
      "cell_type": "code",
      "source": [
        "for m in genai.list_models():\n",
        "  if 'generateContent' in m.supported_generation_methods:\n",
        "    print(m.name)"
      ],
      "metadata": {
        "colab": {
          "base_uri": "https://localhost:8080/",
          "height": 139
        },
        "id": "0-7NY3xQdLmn",
        "outputId": "b0b4400a-8537-495b-fb22-1a6bac4ac6df"
      },
      "execution_count": 24,
      "outputs": [
        {
          "output_type": "stream",
          "name": "stdout",
          "text": [
            "models/gemini-1.0-pro\n",
            "models/gemini-1.0-pro-001\n",
            "models/gemini-1.0-pro-latest\n",
            "models/gemini-1.0-pro-vision-latest\n",
            "models/gemini-1.5-pro-latest\n",
            "models/gemini-pro\n",
            "models/gemini-pro-vision\n"
          ]
        }
      ]
    },
    {
      "cell_type": "markdown",
      "source": [
        "CONFIGURAÇÕES DOS AJUSTES DA IA, COMO TEMPERATURA TOP P, SEGURANÇA, ETC..."
      ],
      "metadata": {
        "id": "itWNGzyMg6Km"
      }
    },
    {
      "cell_type": "code",
      "source": [
        "generation_config = {\n",
        "\n",
        "                     \"candidate_count\": 1,\n",
        "                     \"temperature\": 1,\n",
        "}"
      ],
      "metadata": {
        "id": "u2VPSEJ4eThq"
      },
      "execution_count": 25,
      "outputs": []
    },
    {
      "cell_type": "code",
      "source": [
        "safety_settings = {\n",
        "    \"HARASSMENT\": \"BLOCK\",\n",
        "    \"HATE\": \"BLOCK\",\n",
        "    \"SEXUAL\": \"BLOCK\",\n",
        "    \"DANGEROUS\": \"BLOCK\",\n",
        "}"
      ],
      "metadata": {
        "id": "o4DC11j1gR1O"
      },
      "execution_count": 26,
      "outputs": []
    },
    {
      "cell_type": "markdown",
      "source": [
        "INICIALIZANDO O MODELO"
      ],
      "metadata": {
        "id": "fU0s8-Iwhqud"
      }
    },
    {
      "cell_type": "code",
      "source": [
        "model = genai.GenerativeModel(model_name=\"gemini-1.0-pro\",\n",
        "                              generation_config=generation_config,\n",
        "                              safety_settings=safety_settings)"
      ],
      "metadata": {
        "id": "kn3zjXtJg3M1"
      },
      "execution_count": 29,
      "outputs": []
    },
    {
      "cell_type": "markdown",
      "source": [
        "geração de conteúdo"
      ],
      "metadata": {
        "id": "BgENFxJ6joS0"
      }
    },
    {
      "cell_type": "code",
      "source": [
        "def gerar_historia(nome, genero, idade, ocasiao, palavras_chave, num_palavras=200):\n",
        "  \"\"\"Gera uma história infantil personalizada.\n",
        "\n",
        "  Args:\n",
        "    nome: Nome da criança.\n",
        "    genero: Gênero da criança (masculino, feminino, neutro).\n",
        "    idade: Idade da criança.\n",
        "    ocasiao: Ocasião da história (aniversário, Natal, etc.).\n",
        "    palavras_chave: Lista de 10 palavras-chave para a história.\n",
        "    num_palavras: Número de palavras desejado na história (default: 200).\n",
        "\n",
        "  Returns:\n",
        "    Uma string contendo a história infantil personalizada.\n",
        "  \"\"\"\n",
        "  prompt = f\"\"\"Crie uma história infantil personalizada com os seguintes detalhes:\n",
        "  Nome: {nome}\n",
        "  Gênero: {genero}\n",
        "  Idade: {idade}\n",
        "  Ocasião: {ocasiao}\n",
        "  Palavras-chave: {', '.join(palavras_chave)}\n",
        "\n",
        "  A história deve ser envolvente e adequada para a idade da criança.\n",
        "  Use as palavras-chave de forma criativa e natural no enredo.\n",
        "\n",
        "  A história deve ter aproximadamente {num_palavras} palavras.\n",
        "  \"\"\"\n",
        "  response = model.generate_content(prompt)\n",
        "  historia = response.text\n",
        "  return historia\n",
        "\n",
        "# Exemplo de uso:\n",
        "nome = \"Sofia\"\n",
        "genero = \"feminino\"\n",
        "idade = 7\n",
        "ocasiao = \"aniversário\"\n",
        "palavras_chave = [\"princesa\", \" castelo\", \"magia\", \"dragão\", \"aventura\", \"amizade\", \"floresta\", \"presente\", \"festa\", \"felicidade\"]\n",
        "num_palavras = 300\n",
        "\n",
        "historia = gerar_historia(nome, genero, idade, ocasiao, palavras_chave, num_palavras)\n",
        "print(historia)"
      ],
      "metadata": {
        "colab": {
          "base_uri": "https://localhost:8080/",
          "height": 228
        },
        "id": "y-PQaF06jP-q",
        "outputId": "10b9d7a9-92e1-4533-e19e-4985687aa44d"
      },
      "execution_count": 40,
      "outputs": [
        {
          "output_type": "stream",
          "name": "stdout",
          "text": [
            "No encantado aniversário de Sofia, uma princesa de coração puro de 7 anos, seu castelo era um turbilhão de magia e emoção. De repente, um presente especial chegou, uma caixa reluzente que continha uma varinha de fada cintilante.\n",
            "\n",
            "Cheia de curiosidade, Sofia balançou a varinha, e com um estrondo, uma passagem secreta se abriu na floresta além do castelo. Mal podia esperar para explorar e descobrir a aventura que a esperava.\n",
            "\n",
            "Ao entrar na floresta, Sofia encontrou um pequeno dragão verde chamado Esmeralda. Esmeralda era gentil e sábia, e as duas rapidamente se tornaram amigas. Juntas, elas avançaram pela floresta, guiadas pela magia da varinha de fada.\n",
            "\n",
            "No caminho, elas encontraram criaturas mágicas e superaram desafios com a ajuda da magia e da amizade. Finalmente, chegaram a um lago cheio de flores cintilantes. Sofia fez um pedido: felicidade para todos no castelo em seu aniversário.\n",
            "\n",
            "Com um flash de luz, o desejo de Sofia foi concedido. De volta ao castelo, a festa era um turbilhão de alegria e risadas. Seus amigos e familiares a felicitaram, e sua felicidade irradiava pelo salão.\n",
            "\n",
            "Sofia aprendeu que a verdadeira aventura não estava apenas fora, mas também dentro de sua capacidade de espalhar felicidade e abraçar a magia da amizade. E assim, ela celebrou seu aniversário, uma princesa com um coração tão brilhante quanto a magia que a cercava.\n"
          ]
        }
      ]
    },
    {
      "cell_type": "code",
      "source": [
        "\n",
        "while True:\n",
        "    nome = input(\"Qual o nome da criança? \")\n",
        "    genero = input(\"Qual o gênero da criança (masculino, feminino, neutro)? \")\n",
        "    idade = int(input(\"Qual a idade da criança? \"))\n",
        "    ocasiao = input(\"Qual a ocasião da história (Aniversário, Natal, Páscoa, Férias na Praia, etc.)? \")\n",
        "\n",
        "    print(\"Digite 6 palavras-chave para a história:\")\n",
        "    palavras_chave = []\n",
        "    for i in range(6):\n",
        "        palavra = input(f\"{i+1}ª palavra: \")\n",
        "        palavras_chave.append(palavra)\n",
        "\n",
        "    num_palavras = int(input(\"Quantas palavras você quer na história? \"))\n",
        "\n",
        "    historia = gerar_historia(nome, genero, idade, ocasiao, palavras_chave, num_palavras)\n",
        "    print(\"\\n**História Gerada:**\\n\", historia)\n",
        "\n",
        "    continuar = input(\"\\nDeseja gerar outra história? (S/N): \")\n",
        "    if continuar.upper() != 'S':\n",
        "        break"
      ],
      "metadata": {
        "colab": {
          "base_uri": "https://localhost:8080/",
          "height": 679
        },
        "id": "Sva6mN7SG7Xr",
        "outputId": "fcd8120c-54d1-495e-be41-8f1939c98a80"
      },
      "execution_count": 43,
      "outputs": [
        {
          "name": "stdout",
          "output_type": "stream",
          "text": [
            "Qual o nome da criança? Antonella\n",
            "Qual o gênero da criança (masculino, feminino, neutro)? feminino\n",
            "Qual a idade da criança? 4\n",
            "Qual a ocasião da história (Aniversário, Natal, Páscoa, Férias na Praia, etc.)? Primeiro dia na escola\n",
            "Digite 6 palavras-chave para a história:\n",
            "1ª palavra: Amigos\n",
            "2ª palavra: Diversão\n",
            "3ª palavra: Aprender\n",
            "4ª palavra: Desenhos\n",
            "5ª palavra: Brincadeiras\n",
            "6ª palavra: Voltar pra  casa\n",
            "Quantas palavras você quer na história? 3000\n",
            "\n",
            "**História Gerada:**\n",
            " Em um lindo dia ensolarado, Antonella, uma garotinha de 4 anos, estava pulando de alegria. Era seu primeiro dia na escola, e ela estava ansiosa para conhecer novos amigos e aprender coisas incríveis.\n",
            "\n",
            "Com sua mochila cor-de-rosa decorada com seus personagens favoritos, Antonella correu para fora de casa e segurou a mão de sua mãe. Elas caminharam juntas até a escola, onde as crianças estavam correndo e brincando no parquinho. Antonella ficou encantada com o burburinho e não hesitou em se juntar à diversão.\n",
            "\n",
            "Ela fez amizade com uma menina chamada Sofia, que tinha lindos cachinhos loiros. Juntas, elas brincaram de amarelinha e desenharam imagens coloridas na areia. Antonella sentiu-se tão à vontade como se conhecesse Sofia há muito tempo.\n",
            "\n",
            "Então, o sino tocou, sinalizando o início da aula. Antonella e Sofia entraram juntas na sala de aula, que era cheia de cores brilhantes e brinquedos divertidos. A professora, Sra. Carla, era gentil e acolhedora. Ela cantou uma canção para as crianças e leu uma história empolgante sobre um grupo de animais amigos.\n",
            "\n",
            "Antonella ouviu atentamente, absorvendo cada palavra com sua mente curiosa. Ela aprendeu sobre as letras e os números, e até cantou algumas músicas novas. O tempo voou, e logo chegou a hora do intervalo.\n",
            "\n",
            "Antonella e Sofia correram para o parquinho novamente, onde se juntaram a outros amigos que haviam feito. Elas brincaram de pega-pega e esconde-esconde, rindo e se divertindo muito. Na hora do almoço, Antonella compartilhou seu lanche com seus novos amigos, sentindo-se parte de algo especial.\n",
            "\n",
            "Após o almoço, as crianças retornaram para a sala de aula para mais aprendizado. Elas construíram torres de blocos, desenharam animais de fazenda na lousa e contaram histórias juntas. Antonella amou cada minuto, sentindo que sua primeira experiência na escola era um sonho tornado realidade.\n",
            "\n",
            "Por fim, o dia chegou ao fim, e Antonella se despediu de seus novos amigos. Ela correu para fora da escola e abraçou sua mãe, ansiosa para compartilhar toutes as coisas incríveis que havia aprendido e vivenciado.\n",
            "\n",
            "Enquanto caminhavam para casa, Antonella pensava sobre seu primeiro dia na escola. Ela havia feito novos amigos, aprendido coisas novas e se divertido muito. Ela percebeu que a escola não era um lugar assustador, mas, sim, um lugar onde ela poderia crescer e explorar o mundo ao seu redor.\n",
            "\n",
            "Ao chegar em casa, Antonella correu para seu quarto e desenhou uma imagem de tudo o que havia feito na escola. Ela desenhou seus novos amigos, a Sra. Carla, os brinquedos divertidos e as coisas incríveis que havia aprendido. Então, ela mostrou orgulhosamente o desenho para sua mãe e contou toda a história.\n",
            "\n",
            "Enquanto ouvia a história de Antonella, sua mãe sentiu muito orgulho da filha. Ela percebeu que Antonella havia crescido e amadurecido tanto naquele dia. A escola seria uma aventura extraordinária para ela, cheia de conhecimento, amizade e diversão. E Antonella estava pronta para abraçar cada momento.\n",
            "\n",
            "Deseja gerar outra história? (S/N): N\n"
          ]
        }
      ]
    },
    {
      "cell_type": "code",
      "source": [],
      "metadata": {
        "id": "-rgECWvTKRkK"
      },
      "execution_count": null,
      "outputs": []
    }
  ]
}